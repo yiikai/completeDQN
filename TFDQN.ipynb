{
 "cells": [
  {
   "cell_type": "code",
   "execution_count": 1,
   "metadata": {},
   "outputs": [],
   "source": [
    "import gym\n",
    "import tensorflow as tf\n",
    "import numpy as np\n",
    "import collections\n",
    "import random"
   ]
  },
  {
   "cell_type": "code",
   "execution_count": 2,
   "metadata": {},
   "outputs": [],
   "source": [
    "env = gym.make('CartPole-v1')\n",
    "actsize = env.action_space.n\n",
    "stateSize = env.observation_space.shape[0]\n",
    "sess = tf.Session()"
   ]
  },
  {
   "cell_type": "code",
   "execution_count": 3,
   "metadata": {},
   "outputs": [],
   "source": [
    "class network(object):\n",
    "    def __init__(self,session = None,input_dim = None,output_dim = None,lr = None):\n",
    "        self.inputDim = input_dim\n",
    "        self.outputDim = output_dim\n",
    "        self.learningRate = lr\n",
    "        #构建深度训练网络\n",
    "        self.__buildNN()\n",
    "        self.sess = session\n",
    "        self.sess.run(tf.global_variables_initializer())\n",
    "        self.sess.run(tf.local_variables_initializer())\n",
    "        \n",
    "    def __buildNN(self):\n",
    "        w_initializer, b_initializer = tf.random_normal_initializer(0., 0.3), tf.constant_initializer(0.1)\n",
    "        self.X = tf.placeholder(dtype=tf.float32,shape=(None,self.inputDim))\n",
    "        self.Q_traget = tf.placeholder(dtype=tf.float32, shape=(None,self.outputDim), name='Q_target')\n",
    "        h1 = tf.layers.dense(inputs=self.X, units=16, activation=tf.nn.relu,kernel_initializer=w_initializer,bias_initializer=b_initializer)\n",
    "        h2 = tf.layers.dense(inputs=h1, units=16, activation=tf.nn.relu,kernel_initializer=w_initializer,bias_initializer=b_initializer)\n",
    "        self.Y = tf.layers.dense(inputs=h1, units=self.outputDim,kernel_initializer=w_initializer,bias_initializer=b_initializer)\n",
    "        self.loss = tf.reduce_mean(tf.squared_difference(self.Q_traget,self.Y))  #TD-ERROR loss\n",
    "        self._train_op = tf.train.RMSPropOptimizer(self.learningRate).minimize(self.loss)    \n",
    "\n",
    "    def train(self,qvalue = None, predict = None):\n",
    "        _, cost = self.sess.run([self._train_op,self.loss],feed_dict={self.X:predict, self.Q_traget:qvalue})\n",
    "        return cost\n",
    "        \n",
    "    def predict(self,Input = None):\n",
    "        evalData = self.sess.run(self.Y,feed_dict={self.X:Input})\n",
    "        return evalData\n",
    "        "
   ]
  },
  {
   "cell_type": "code",
   "execution_count": 4,
   "metadata": {},
   "outputs": [
    {
     "name": "stdout",
     "output_type": "stream",
     "text": [
      "WARNING:tensorflow:From <ipython-input-3-354c58116918>:16: dense (from tensorflow.python.layers.core) is deprecated and will be removed in a future version.\n",
      "Instructions for updating:\n",
      "Use keras.layers.dense instead.\n",
      "WARNING:tensorflow:From D:\\AnaconDA\\lib\\site-packages\\tensorflow\\python\\framework\\op_def_library.py:263: colocate_with (from tensorflow.python.framework.ops) is deprecated and will be removed in a future version.\n",
      "Instructions for updating:\n",
      "Colocations handled automatically by placer.\n"
     ]
    }
   ],
   "source": [
    "nn = network(sess,input_dim = stateSize, output_dim = actsize,lr = 0.01)"
   ]
  },
  {
   "cell_type": "code",
   "execution_count": 5,
   "metadata": {},
   "outputs": [],
   "source": [
    "class dqn(object):\n",
    "    def __init__(self,statesize = None,actionsize = None,env = None,network= None,gamma = 0.9,epsilon = 0.5,replaySize = 2000,batchsize = 32):\n",
    "        self._statesize = statesize\n",
    "        self._actionsize = actionsize\n",
    "        self._epsilon_min = 0.01\n",
    "        self._nn = network\n",
    "        self._gamma = gamma\n",
    "        self._epsilon = epsilon\n",
    "        self._env = env\n",
    "        self._replay = collections.deque(maxlen=replaySize)\n",
    "        self._bacthsize = batchsize\n",
    "    \n",
    "    def rember(self,s,s_,a,r,done):\n",
    "        if len(self._replay) == self._replay.maxlen:\n",
    "            self._replay.popleft()\n",
    "        self._replay.append((s,s_,a,r,done))\n",
    "        \n",
    "    def learning(self):\n",
    "        cost = 0\n",
    "        if len(self._replay) > self._bacthsize:\n",
    "            #随机抽取记忆数据进行训练\n",
    "            minibatch = random.sample(self._replay, self._bacthsize)\n",
    "            qvalues = []\n",
    "            states = []\n",
    "            for s,s_,a,r,done in minibatch:\n",
    "                states.append(s)\n",
    "                if not done:\n",
    "                    value = self._nn.predict(s_)\n",
    "                    idx = sess.run(tf.math.argmax(value,1))\n",
    "                    max_action = value[0][idx[0]]\n",
    "                    qtarget = r + self._gamma * max_action\n",
    "                else:\n",
    "                    qtarget = reward\n",
    "                newvalue = self._nn.predict(s)\n",
    "                newvalue[0][a] = qtarget\n",
    "                qvalues.append(newvalue)\n",
    "            qvalues = np.array(qvalues).reshape(-1,2)\n",
    "            states = np.array(states).reshape(-1,4)\n",
    "            cost = self._nn.train(qvalues,states)\n",
    "            if self._epsilon > self._epsilon_min:\n",
    "                self._epsilon -= (0.5 - self._epsilon_min)/10000\n",
    "        return cost\n",
    "    \n",
    "    def greedy_act(self,state):\n",
    "        if np.random.rand() <= self._epsilon:\n",
    "            return random.randrange(self._actionsize)\n",
    "        pY = self._nn.predict(state)\n",
    "        idx = sess.run(tf.math.argmax(pY,1))\n",
    "        return idx[0]\n",
    "        "
   ]
  },
  {
   "cell_type": "code",
   "execution_count": 7,
   "metadata": {},
   "outputs": [
    {
     "name": "stdout",
     "output_type": "stream",
     "text": [
      "Failed:25 at 0/500\n",
      "Failed:29 at 1/500\n",
      "Failed:20 at 2/500\n",
      "Failed:14 at 3/500\n",
      "Failed:22 at 4/500\n",
      "Failed:10 at 5/500\n",
      "Failed:10 at 6/500\n",
      "Failed:34 at 7/500\n",
      "Failed:57 at 8/500\n",
      "Failed:31 at 9/500\n",
      "Failed:37 at 10/500\n",
      "Failed:24 at 11/500\n",
      "Failed:68 at 12/500\n",
      "Failed:43 at 13/500\n",
      "Failed:33 at 14/500\n",
      "Failed:51 at 15/500\n",
      "Failed:24 at 16/500\n",
      "Failed:22 at 17/500\n",
      "Failed:42 at 18/500\n",
      "Failed:65 at 19/500\n",
      "Failed:18 at 20/500\n",
      "Failed:33 at 21/500\n",
      "Failed:21 at 22/500\n",
      "Failed:10 at 23/500\n",
      "Failed:14 at 24/500\n",
      "Failed:9 at 25/500\n",
      "Failed:14 at 26/500\n",
      "Failed:20 at 27/500\n",
      "Failed:17 at 28/500\n",
      "Failed:47 at 29/500\n",
      "Failed:61 at 30/500\n",
      "Failed:62 at 31/500\n",
      "Failed:50 at 32/500\n",
      "Failed:51 at 33/500\n",
      "Failed:44 at 34/500\n",
      "Failed:30 at 35/500\n",
      "Failed:26 at 36/500\n",
      "Failed:14 at 37/500\n",
      "Failed:15 at 38/500\n",
      "Failed:36 at 39/500\n",
      "Failed:21 at 40/500\n",
      "Failed:21 at 41/500\n",
      "Failed:26 at 42/500\n",
      "Failed:28 at 43/500\n",
      "Failed:46 at 44/500\n",
      "Failed:18 at 45/500\n",
      "Failed:28 at 46/500\n",
      "Failed:20 at 47/500\n",
      "Failed:27 at 48/500\n",
      "Failed:14 at 49/500\n",
      "Failed:27 at 50/500\n",
      "Failed:15 at 51/500\n",
      "Failed:13 at 52/500\n",
      "Failed:26 at 53/500\n",
      "Failed:21 at 54/500\n",
      "Failed:11 at 55/500\n",
      "Failed:12 at 56/500\n",
      "Failed:8 at 57/500\n",
      "Failed:19 at 58/500\n",
      "Failed:12 at 59/500\n",
      "Failed:9 at 60/500\n",
      "Failed:11 at 61/500\n",
      "Failed:10 at 62/500\n",
      "Failed:8 at 63/500\n",
      "Failed:16 at 64/500\n",
      "Failed:9 at 65/500\n",
      "Failed:16 at 66/500\n",
      "Failed:9 at 67/500\n",
      "Failed:22 at 68/500\n",
      "Failed:11 at 69/500\n",
      "Failed:10 at 70/500\n",
      "Failed:10 at 71/500\n",
      "Failed:11 at 72/500\n",
      "Failed:12 at 73/500\n",
      "Failed:10 at 74/500\n",
      "Failed:8 at 75/500\n",
      "Failed:22 at 76/500\n",
      "Failed:11 at 77/500\n",
      "Failed:9 at 78/500\n",
      "Failed:11 at 79/500\n"
     ]
    },
    {
     "ename": "AttributeError",
     "evalue": "'dqn' object has no attribute 'memory'",
     "output_type": "error",
     "traceback": [
      "\u001b[1;31m---------------------------------------------------------------------------\u001b[0m",
      "\u001b[1;31mAttributeError\u001b[0m                            Traceback (most recent call last)",
      "\u001b[1;32m<ipython-input-7-ce97fb61f368>\u001b[0m in \u001b[0;36m<module>\u001b[1;34m\u001b[0m\n\u001b[0;32m     10\u001b[0m         \u001b[0mreward\u001b[0m \u001b[1;33m=\u001b[0m \u001b[0mreward\u001b[0m \u001b[1;32mif\u001b[0m \u001b[1;32mnot\u001b[0m \u001b[0mdone\u001b[0m \u001b[1;32melse\u001b[0m \u001b[1;33m-\u001b[0m\u001b[1;36m10\u001b[0m\u001b[1;33m\u001b[0m\u001b[1;33m\u001b[0m\u001b[0m\n\u001b[0;32m     11\u001b[0m         \u001b[0mnext_state\u001b[0m \u001b[1;33m=\u001b[0m \u001b[0mnp\u001b[0m\u001b[1;33m.\u001b[0m\u001b[0marray\u001b[0m\u001b[1;33m(\u001b[0m\u001b[0mnext_state\u001b[0m\u001b[1;33m)\u001b[0m\u001b[1;33m.\u001b[0m\u001b[0mreshape\u001b[0m\u001b[1;33m(\u001b[0m\u001b[1;36m1\u001b[0m\u001b[1;33m,\u001b[0m\u001b[1;36m4\u001b[0m\u001b[1;33m)\u001b[0m\u001b[1;33m\u001b[0m\u001b[1;33m\u001b[0m\u001b[0m\n\u001b[1;32m---> 12\u001b[1;33m         \u001b[0mDQN\u001b[0m\u001b[1;33m.\u001b[0m\u001b[0mrember\u001b[0m\u001b[1;33m(\u001b[0m\u001b[0mstate\u001b[0m\u001b[1;33m,\u001b[0m\u001b[0mnext_state\u001b[0m\u001b[1;33m,\u001b[0m\u001b[0maction\u001b[0m\u001b[1;33m,\u001b[0m\u001b[0mreward\u001b[0m\u001b[1;33m,\u001b[0m\u001b[0mdone\u001b[0m\u001b[1;33m)\u001b[0m\u001b[1;33m\u001b[0m\u001b[1;33m\u001b[0m\u001b[0m\n\u001b[0m\u001b[0;32m     13\u001b[0m         \u001b[1;32mif\u001b[0m \u001b[0mdone\u001b[0m\u001b[1;33m:\u001b[0m\u001b[1;33m\u001b[0m\u001b[1;33m\u001b[0m\u001b[0m\n\u001b[0;32m     14\u001b[0m             \u001b[0mprint\u001b[0m\u001b[1;33m(\u001b[0m\u001b[1;34m\"Failed:{} at {}/500\"\u001b[0m\u001b[1;33m.\u001b[0m\u001b[0mformat\u001b[0m\u001b[1;33m(\u001b[0m\u001b[0mj\u001b[0m\u001b[1;33m,\u001b[0m\u001b[0mi\u001b[0m\u001b[1;33m)\u001b[0m\u001b[1;33m)\u001b[0m\u001b[1;33m\u001b[0m\u001b[1;33m\u001b[0m\u001b[0m\n",
      "\u001b[1;32m<ipython-input-5-3f52b817eefb>\u001b[0m in \u001b[0;36mrember\u001b[1;34m(self, s, s_, a, r, done)\u001b[0m\n\u001b[0;32m     13\u001b[0m     \u001b[1;32mdef\u001b[0m \u001b[0mrember\u001b[0m\u001b[1;33m(\u001b[0m\u001b[0mself\u001b[0m\u001b[1;33m,\u001b[0m\u001b[0ms\u001b[0m\u001b[1;33m,\u001b[0m\u001b[0ms_\u001b[0m\u001b[1;33m,\u001b[0m\u001b[0ma\u001b[0m\u001b[1;33m,\u001b[0m\u001b[0mr\u001b[0m\u001b[1;33m,\u001b[0m\u001b[0mdone\u001b[0m\u001b[1;33m)\u001b[0m\u001b[1;33m:\u001b[0m\u001b[1;33m\u001b[0m\u001b[1;33m\u001b[0m\u001b[0m\n\u001b[0;32m     14\u001b[0m         \u001b[1;32mif\u001b[0m \u001b[0mlen\u001b[0m\u001b[1;33m(\u001b[0m\u001b[0mself\u001b[0m\u001b[1;33m.\u001b[0m\u001b[0m_replay\u001b[0m\u001b[1;33m)\u001b[0m \u001b[1;33m==\u001b[0m \u001b[0mself\u001b[0m\u001b[1;33m.\u001b[0m\u001b[0m_replay\u001b[0m\u001b[1;33m.\u001b[0m\u001b[0mmaxlen\u001b[0m\u001b[1;33m:\u001b[0m\u001b[1;33m\u001b[0m\u001b[1;33m\u001b[0m\u001b[0m\n\u001b[1;32m---> 15\u001b[1;33m             \u001b[0mself\u001b[0m\u001b[1;33m.\u001b[0m\u001b[0mmemory\u001b[0m\u001b[1;33m.\u001b[0m\u001b[0mpopleft\u001b[0m\u001b[1;33m(\u001b[0m\u001b[1;33m)\u001b[0m\u001b[1;33m\u001b[0m\u001b[1;33m\u001b[0m\u001b[0m\n\u001b[0m\u001b[0;32m     16\u001b[0m         \u001b[0mself\u001b[0m\u001b[1;33m.\u001b[0m\u001b[0m_replay\u001b[0m\u001b[1;33m.\u001b[0m\u001b[0mappend\u001b[0m\u001b[1;33m(\u001b[0m\u001b[1;33m(\u001b[0m\u001b[0ms\u001b[0m\u001b[1;33m,\u001b[0m\u001b[0ms_\u001b[0m\u001b[1;33m,\u001b[0m\u001b[0ma\u001b[0m\u001b[1;33m,\u001b[0m\u001b[0mr\u001b[0m\u001b[1;33m,\u001b[0m\u001b[0mdone\u001b[0m\u001b[1;33m)\u001b[0m\u001b[1;33m)\u001b[0m\u001b[1;33m\u001b[0m\u001b[1;33m\u001b[0m\u001b[0m\n\u001b[0;32m     17\u001b[0m \u001b[1;33m\u001b[0m\u001b[0m\n",
      "\u001b[1;31mAttributeError\u001b[0m: 'dqn' object has no attribute 'memory'"
     ]
    }
   ],
   "source": [
    "DQN = dqn(stateSize,actsize,env,nn)\n",
    "# pY = nn.predict(state)\n",
    "# idx = sess.run(tf.math.argmax(pY[0],1))\n",
    "for i in range(500):\n",
    "    state = env.reset()\n",
    "    state = np.array(state).reshape(1,4)\n",
    "    for j in range(200):\n",
    "        action = DQN.greedy_act(state)\n",
    "        next_state, reward, done, _ = env.step(action)\n",
    "        reward = reward if not done else -10\n",
    "        next_state = np.array(next_state).reshape(1,4)\n",
    "        DQN.rember(state,next_state,action,reward,done)\n",
    "        if done:\n",
    "            print(\"Failed:{} at {}/500\".format(j,i))\n",
    "            break\n",
    "        state = next_state\n",
    "    cost = DQN.learning()\n",
    "    \n",
    "    "
   ]
  },
  {
   "cell_type": "code",
   "execution_count": 13,
   "metadata": {},
   "outputs": [
    {
     "name": "stdout",
     "output_type": "stream",
     "text": [
      "local_variables\n"
     ]
    }
   ],
   "source": [
    "print(tf.GraphKeys.LOCAL_VARIABLES)"
   ]
  },
  {
   "cell_type": "code",
   "execution_count": null,
   "metadata": {},
   "outputs": [],
   "source": []
  }
 ],
 "metadata": {
  "kernelspec": {
   "display_name": "Python 3",
   "language": "python",
   "name": "python3"
  }
 },
 "nbformat": 4,
 "nbformat_minor": 2
}
