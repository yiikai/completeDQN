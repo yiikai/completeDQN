{
 "cells": [
  {
   "cell_type": "code",
   "execution_count": null,
   "metadata": {},
   "outputs": [],
   "source": [
    "import gym\n",
    "import tensorflow as tf"
   ]
  },
  {
   "cell_type": "code",
   "execution_count": null,
   "metadata": {},
   "outputs": [],
   "source": [
    "env = gym.make('CartPole-v1')\n",
    "actsize = env.action_space.n\n",
    "stateSize = env.observation_space.shape[0]"
   ]
  },
  {
   "cell_type": "code",
   "execution_count": null,
   "metadata": {},
   "outputs": [],
   "source": [
    "class network(object):\n",
    "    def __init__(self,input_dim = None,output_dim = None,lr = None):\n",
    "        self.inputDim = input_dim\n",
    "        self.outputDim = output_dim\n",
    "        self.learningRate = lr\n",
    "        #构建深度训练网络\n",
    "        self.__buildNN()\n",
    "        self.sess = tf.Session()\n",
    "        self.sess.run(tf.global_variables_initializer())\n",
    "        self.sess.run(tf.local_variables_initializer())\n",
    "        \n",
    "    def __buildNN(self):\n",
    "        w_initializer, b_initializer = tf.random_normal_initializer(0., 0.3), tf.constant_initializer(0.1)\n",
    "        self.X = tf.placeholder(dtype=tf.float32,shape=self.inputDim)\n",
    "        self.Q_traget = tf.placeholder(tf.float32, (None,self.outputDim), name='Q_target')\n",
    "        h1 = tf.layers.dense(inputs=self.X, units=16, activation=tf.nn.relu,kernel_initializer=w_initializer,bias_initializer=b_initializer)\n",
    "        h2 = tf.layers.dense(inputs=h1, units=16, activation=tf.nn.relu,kernel_initializer=w_initializer,bias_initializer=b_initializer)\n",
    "        self.Y = tf.layers.dense(inputs=h1, units=self.outputDim,kernel_initializer=w_initializer,bias_initializer=b_initializer)\n",
    "        self.loss = tf.reduce_mean(tf.squared_difference(self.Q_traget,self.Y))\n",
    "        self._train_op = tf.train.RMSPropOptimizer(self.learningRate).minimize(self.loss)    \n",
    "\n",
    "    def train(self,qvalue = None, predict = None):\n",
    "        _, cost = self.sess.run([self._train_op,self.loss],feed_dict={self.X:predict, self.Q_traget:qvalue})\n",
    "        \n",
    "    def predict(self,Input = None):\n",
    "        evalData = self.sess.run(self.Y,feed_dict={self.X:Input})\n",
    "        return evalData\n",
    "        "
   ]
  },
  {
   "cell_type": "code",
   "execution_count": null,
   "metadata": {},
   "outputs": [],
   "source": [
    "nn = network(input_dim = (None,stateSize), output_dim = actsize,lr = 0.01)"
   ]
  },
  {
   "cell_type": "code",
   "execution_count": null,
   "metadata": {},
   "outputs": [],
   "source": []
  },
  {
   "cell_type": "code",
   "execution_count": null,
   "metadata": {},
   "outputs": [],
   "source": []
  },
  {
   "cell_type": "code",
   "execution_count": null,
   "metadata": {},
   "outputs": [],
   "source": []
  }
 ],
 "metadata": {
  "kernelspec": {
   "display_name": "Python 3",
   "language": "python",
   "name": "python3"
  },
  "language_info": {
   "codemirror_mode": {
    "name": "ipython",
    "version": 3
   },
   "file_extension": ".py",
   "mimetype": "text/x-python",
   "name": "python",
   "nbconvert_exporter": "python",
   "pygments_lexer": "ipython3",
   "version": "3.7.1"
  }
 },
 "nbformat": 4,
 "nbformat_minor": 2
}
