{
 "cells": [
  {
   "cell_type": "code",
   "execution_count": 35,
   "metadata": {},
   "outputs": [],
   "source": [
    "import gym\n",
    "import tensorflow as tf\n",
    "import numpy as np\n",
    "import collections\n",
    "import random"
   ]
  },
  {
   "cell_type": "code",
   "execution_count": 36,
   "metadata": {},
   "outputs": [],
   "source": [
    "env = gym.make('CartPole-v1')\n",
    "actsize = env.action_space.n\n",
    "stateSize = env.observation_space.shape[0]\n",
    "sess = tf.Session()"
   ]
  },
  {
   "cell_type": "code",
   "execution_count": 37,
   "metadata": {},
   "outputs": [],
   "source": [
    "class network(object):\n",
    "    def __init__(self,session = None,input_dim = None,output_dim = None,lr = None):\n",
    "        self.inputDim = input_dim\n",
    "        self.outputDim = output_dim\n",
    "        self.learningRate = lr\n",
    "        #构建深度训练网络\n",
    "        self.__buildNN()\n",
    "        self.sess = session\n",
    "        self.sess.run(tf.global_variables_initializer())\n",
    "        self.sess.run(tf.local_variables_initializer())\n",
    "        \n",
    "    def __buildNN(self):\n",
    "        w_initializer, b_initializer = tf.random_normal_initializer(0., 0.3), tf.constant_initializer(0.1)\n",
    "        self.X = tf.placeholder(dtype=tf.float32,shape=(None,self.inputDim))\n",
    "        self.Q_traget = tf.placeholder(dtype=tf.float32, shape=(None,self.outputDim), name='Q_target')\n",
    "        h1 = tf.layers.dense(inputs=self.X, units=16, activation=tf.nn.relu,kernel_initializer=w_initializer,bias_initializer=b_initializer)\n",
    "        h2 = tf.layers.dense(inputs=h1, units=16, activation=tf.nn.relu,kernel_initializer=w_initializer,bias_initializer=b_initializer)\n",
    "        self.Y = tf.layers.dense(inputs=h1, units=self.outputDim,kernel_initializer=w_initializer,bias_initializer=b_initializer)\n",
    "        self.loss = tf.reduce_mean(tf.squared_difference(self.Q_traget,self.Y))  #TD-ERROR loss\n",
    "        self._train_op = tf.train.RMSPropOptimizer(self.learningRate).minimize(self.loss)    \n",
    "\n",
    "    def train(self,qvalue = None, predict = None):\n",
    "        _, cost = self.sess.run([self._train_op,self.loss],feed_dict={self.X:predict, self.Q_traget:qvalue})\n",
    "        return cost\n",
    "        \n",
    "    def predict(self,Input = None):\n",
    "        evalData = self.sess.run(self.Y,feed_dict={self.X:Input})\n",
    "        return evalData\n",
    "        "
   ]
  },
  {
   "cell_type": "code",
   "execution_count": 38,
   "metadata": {},
   "outputs": [],
   "source": [
    "nn = network(sess,input_dim = stateSize, output_dim = actsize,lr = 0.01)"
   ]
  },
  {
   "cell_type": "code",
   "execution_count": 39,
   "metadata": {},
   "outputs": [],
   "source": [
    "class dqn(object):\n",
    "    def __init__(self,statesize = None,actionsize = None,env = None,network= None,gamma = 0.9,epsilon = 0.5,replaySize = 2000,batchsize = 32):\n",
    "        self._statesize = statesize\n",
    "        self._actionsize = actionsize\n",
    "        self._epsilon_min = 0.01\n",
    "        self._nn = network\n",
    "        self._gamma = gamma\n",
    "        self._epsilon = epsilon\n",
    "        self._env = env\n",
    "        self._replay = collections.deque(maxlen=replaySize)\n",
    "        self._bacthsize = batchsize\n",
    "    \n",
    "    def rember(self,s,s_,a,r,done):\n",
    "        if len(self._replay) == self._replay.maxlen:\n",
    "            self.memory.popleft()\n",
    "        self._replay.append((s,s_,a,r,done))\n",
    "        \n",
    "    def learning(self):\n",
    "        cost = 0\n",
    "        if len(self._replay) > self._bacthsize:\n",
    "            #随机抽取记忆数据进行训练\n",
    "            minibatch = random.sample(self._replay, self._bacthsize)\n",
    "            qvalues = []\n",
    "            states = []\n",
    "            for s,s_,a,r,done in minibatch:\n",
    "                states.append(s)\n",
    "                if not done:\n",
    "                    value = self._nn.predict(s_)\n",
    "                    idx = sess.run(tf.math.argmax(value,1))\n",
    "                    max_action = value[0][idx[0]]\n",
    "                    qtarget = r + self._gamma * max_action\n",
    "                else:\n",
    "                    qtarget = reward\n",
    "                newvalue = self._nn.predict(s)\n",
    "                newvalue[0][a] = qtarget\n",
    "                qvalues.append(newvalue)\n",
    "            qvalues = np.array(qvalues).reshape(-1,2)\n",
    "            states = np.array(states).reshape(-1,4)\n",
    "            cost = self._nn.train(qvalues,states)\n",
    "            if self._epsilon > self._epsilon_min:\n",
    "                self._epsilon -= (0.5 - self._epsilon_min)/10000\n",
    "        return cost\n",
    "    \n",
    "    def greedy_act(self,state):\n",
    "        if np.random.rand() <= self._epsilon:\n",
    "            return random.randrange(self._actionsize)\n",
    "        pY = self._nn.predict(state)\n",
    "        idx = sess.run(tf.math.argmax(pY,1))\n",
    "        return idx[0]\n",
    "        "
   ]
  },
  {
   "cell_type": "code",
   "execution_count": null,
   "metadata": {},
   "outputs": [
    {
     "name": "stdout",
     "output_type": "stream",
     "text": [
      "Failed:15 at 0/500\n",
      "Failed:14 at 1/500\n",
      "Failed:14 at 2/500\n",
      "Failed:12 at 3/500\n",
      "Failed:10 at 4/500\n",
      "Failed:15 at 5/500\n",
      "Failed:13 at 6/500\n",
      "Failed:22 at 7/500\n",
      "Failed:18 at 8/500\n",
      "Failed:13 at 9/500\n",
      "Failed:66 at 10/500\n",
      "Failed:12 at 11/500\n"
     ]
    }
   ],
   "source": [
    "DQN = dqn(stateSize,actsize,env,nn)\n",
    "# pY = nn.predict(state)\n",
    "# idx = sess.run(tf.math.argmax(pY[0],1))\n",
    "for i in range(500):\n",
    "    state = env.reset()\n",
    "    state = np.array(state).reshape(1,4)\n",
    "    for j in range(200):\n",
    "        action = DQN.greedy_act(state)\n",
    "        next_state, reward, done, _ = env.step(action)\n",
    "        reward = reward if not done else -10\n",
    "        next_state = np.array(next_state).reshape(1,4)\n",
    "        DQN.rember(state,next_state,action,reward,done)\n",
    "        if done:\n",
    "            print(\"Failed:{} at {}/500\".format(j,i))\n",
    "            break\n",
    "        state = next_state\n",
    "        cost = DQN.learning()\n",
    "    \n",
    "    "
   ]
  },
  {
   "cell_type": "code",
   "execution_count": 13,
   "metadata": {},
   "outputs": [
    {
     "name": "stdout",
     "output_type": "stream",
     "text": [
      "local_variables\n"
     ]
    }
   ],
   "source": [
    "print(tf.GraphKeys.LOCAL_VARIABLES)"
   ]
  },
  {
   "cell_type": "code",
   "execution_count": null,
   "metadata": {},
   "outputs": [],
   "source": []
  }
 ],
 "metadata": {
  "kernelspec": {
   "display_name": "Python 3",
   "language": "python",
   "name": "python3"
  },
  "language_info": {
   "codemirror_mode": {
    "name": "ipython",
    "version": 3
   },
   "file_extension": ".py",
   "mimetype": "text/x-python",
   "name": "python",
   "nbconvert_exporter": "python",
   "pygments_lexer": "ipython3",
   "version": "3.7.1"
  }
 },
 "nbformat": 4,
 "nbformat_minor": 2
}
