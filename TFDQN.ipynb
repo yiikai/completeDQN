{
 "cells": [
  {
   "cell_type": "code",
   "execution_count": 1,
   "metadata": {},
   "outputs": [],
   "source": [
    "import gym\n",
    "import tensorflow as tf\n",
    "import numpy as np\n",
    "import collections\n",
    "import random"
   ]
  },
  {
   "cell_type": "code",
   "execution_count": 2,
   "metadata": {},
   "outputs": [],
   "source": [
    "env = gym.make('CartPole-v1')\n",
    "actsize = env.action_space.n\n",
    "stateSize = env.observation_space.shape[0]\n",
    "sess = tf.Session()"
   ]
  },
  {
   "cell_type": "code",
   "execution_count": 3,
   "metadata": {},
   "outputs": [],
   "source": [
    "class network(object):\n",
    "    def __init__(self,session = None,input_dim = None,output_dim = None,lr = None):\n",
    "        self.inputDim = input_dim\n",
    "        self.outputDim = output_dim\n",
    "        self.learningRate = lr\n",
    "        #构建深度训练网络\n",
    "        self.__buildNN()\n",
    "        self.sess = session\n",
    "        self.sess.run(tf.global_variables_initializer())\n",
    "        self.sess.run(tf.local_variables_initializer())\n",
    "        \n",
    "    def __buildNN(self):\n",
    "        w_initializer, b_initializer = tf.random_normal_initializer(0., 0.3), tf.constant_initializer(0.1)\n",
    "        self.X = tf.placeholder(dtype=tf.float32,shape=(None,1,self.inputDim))\n",
    "        self.Q_traget = tf.placeholder(dtype=tf.float32, shape=(None,1,self.outputDim), name='Q_target')\n",
    "        h1 = tf.layers.dense(inputs=self.X, units=16, activation=tf.nn.relu,kernel_initializer=w_initializer,bias_initializer=b_initializer)\n",
    "        h2 = tf.layers.dense(inputs=h1, units=16, activation=tf.nn.relu,kernel_initializer=w_initializer,bias_initializer=b_initializer)\n",
    "        self.Y = tf.layers.dense(inputs=h1, units=self.outputDim,kernel_initializer=w_initializer,bias_initializer=b_initializer)\n",
    "        self.loss = tf.reduce_mean(tf.squared_difference(self.Q_traget,self.Y))  #TD-ERROR loss\n",
    "        self._train_op = tf.train.RMSPropOptimizer(self.learningRate).minimize(self.loss)    \n",
    "\n",
    "    def train(self,qvalue = None, predict = None):\n",
    "        _, cost = self.sess.run([self._train_op,self.loss],feed_dict={self.X:predict, self.Q_traget:qvalue})\n",
    "        return cost\n",
    "        \n",
    "    def predict(self,Input = None):\n",
    "        evalData = self.sess.run(self.Y,feed_dict={self.X:Input})\n",
    "        return evalData\n",
    "        "
   ]
  },
  {
   "cell_type": "code",
   "execution_count": 4,
   "metadata": {},
   "outputs": [
    {
     "name": "stdout",
     "output_type": "stream",
     "text": [
      "WARNING:tensorflow:From <ipython-input-3-21e10b6da51b>:16: dense (from tensorflow.python.layers.core) is deprecated and will be removed in a future version.\n",
      "Instructions for updating:\n",
      "Use keras.layers.dense instead.\n",
      "WARNING:tensorflow:From D:\\AnaconDA\\lib\\site-packages\\tensorflow\\python\\framework\\op_def_library.py:263: colocate_with (from tensorflow.python.framework.ops) is deprecated and will be removed in a future version.\n",
      "Instructions for updating:\n",
      "Colocations handled automatically by placer.\n"
     ]
    }
   ],
   "source": [
    "nn = network(sess,input_dim = stateSize, output_dim = actsize,lr = 0.01)"
   ]
  },
  {
   "cell_type": "code",
   "execution_count": 17,
   "metadata": {},
   "outputs": [],
   "source": [
    "class dqn(object):\n",
    "    def __init__(self,env = None,network= None,gamma = 0.9,epsilon = 0.5,replaySize = 2000,batchsize = 32):\n",
    "        self._nn = network\n",
    "        self._gamma = gamma\n",
    "        self._epsilon = epsilon\n",
    "        self._env = env\n",
    "        self._replay = collections.deque(maxlen=replaySize)\n",
    "        self._bacthsize = batchsize\n",
    "    \n",
    "    def preprocessInput(self,inputdata):\n",
    "        data = np.array(inputdata).reshape(1,1,4)\n",
    "        return data\n",
    "    \n",
    "    def _qtarget(self,s,a):\n",
    "        next_state, reward, done, _ = self._env.step(a)\n",
    "        next_state = self.preprocessInput(next_state)\n",
    "        idx = 0\n",
    "        if not done:\n",
    "            value = self._nn.predict(next_state)\n",
    "            idx = sess.run(tf.math.argmax(value[0],1))\n",
    "            max_action = value[0][0][idx[0]]\n",
    "            qtarget = reward + self._gamma * max_action\n",
    "        else:\n",
    "            qtarget = -10\n",
    "        newvalue = self._nn.predict(s)\n",
    "        newvalue[0][0][a] = qtarget\n",
    "        return newvalue,next_state,done\n",
    "    \n",
    "    def _rember(self,qvalue,s):\n",
    "        if len(self._replay) == self._replay.maxlen:\n",
    "            self.memory.popleft()\n",
    "        self._replay.append((qvalue,s))\n",
    "        \n",
    "    def learning(self,state,action):\n",
    "        qvalue,next_state,done = self._qtarget(state,action)\n",
    "        self._rember(state,next_state)\n",
    "        if len(self._replay) > self._bacthsize:\n",
    "            #随机抽取记忆数据进行训练\n",
    "            minibatch = random.sample(self._replay, self._bacthsize)\n",
    "            print(minibatch.shape)\n",
    "            #cost = self._nn.train(qvalue,state)\n",
    "        return next_state,done\n",
    "    \n",
    "    def greedy_act(self,state):\n",
    "        pY = self._nn.predict(state)\n",
    "        idx = sess.run(tf.math.argmax(pY[0],1))\n",
    "        return idx[0]\n",
    "        "
   ]
  },
  {
   "cell_type": "code",
   "execution_count": 18,
   "metadata": {},
   "outputs": [
    {
     "name": "stdout",
     "output_type": "stream",
     "text": [
      "Failed:8 at 0/500\n",
      "Failed:8 at 1/500\n",
      "Failed:9 at 2/500\n"
     ]
    },
    {
     "ename": "AttributeError",
     "evalue": "'dqn' object has no attribute 'memory'",
     "output_type": "error",
     "traceback": [
      "\u001b[1;31m---------------------------------------------------------------------------\u001b[0m",
      "\u001b[1;31mAttributeError\u001b[0m                            Traceback (most recent call last)",
      "\u001b[1;32m<ipython-input-18-ce5a771c2091>\u001b[0m in \u001b[0;36m<module>\u001b[1;34m\u001b[0m\n\u001b[0;32m      8\u001b[0m     \u001b[0mcount\u001b[0m \u001b[1;33m=\u001b[0m \u001b[1;36m0\u001b[0m\u001b[1;33m\u001b[0m\u001b[1;33m\u001b[0m\u001b[0m\n\u001b[0;32m      9\u001b[0m     \u001b[1;32mfor\u001b[0m \u001b[0mj\u001b[0m \u001b[1;32min\u001b[0m \u001b[0mrange\u001b[0m\u001b[1;33m(\u001b[0m\u001b[1;36m200\u001b[0m\u001b[1;33m)\u001b[0m\u001b[1;33m:\u001b[0m\u001b[1;33m\u001b[0m\u001b[1;33m\u001b[0m\u001b[0m\n\u001b[1;32m---> 10\u001b[1;33m         \u001b[0mnext_state\u001b[0m\u001b[1;33m,\u001b[0m\u001b[0mdone\u001b[0m \u001b[1;33m=\u001b[0m \u001b[0mDQN\u001b[0m\u001b[1;33m.\u001b[0m\u001b[0mlearning\u001b[0m\u001b[1;33m(\u001b[0m\u001b[0mstate\u001b[0m\u001b[1;33m,\u001b[0m\u001b[0maction\u001b[0m\u001b[1;33m)\u001b[0m\u001b[1;33m\u001b[0m\u001b[1;33m\u001b[0m\u001b[0m\n\u001b[0m\u001b[0;32m     11\u001b[0m         \u001b[1;32mif\u001b[0m \u001b[0mdone\u001b[0m\u001b[1;33m:\u001b[0m\u001b[1;33m\u001b[0m\u001b[1;33m\u001b[0m\u001b[0m\n\u001b[0;32m     12\u001b[0m             \u001b[0mprint\u001b[0m\u001b[1;33m(\u001b[0m\u001b[1;34m\"Failed:{} at {}/500\"\u001b[0m\u001b[1;33m.\u001b[0m\u001b[0mformat\u001b[0m\u001b[1;33m(\u001b[0m\u001b[0mcount\u001b[0m\u001b[1;33m,\u001b[0m\u001b[0mi\u001b[0m\u001b[1;33m)\u001b[0m\u001b[1;33m)\u001b[0m\u001b[1;33m\u001b[0m\u001b[1;33m\u001b[0m\u001b[0m\n",
      "\u001b[1;32m<ipython-input-17-39da965a99c4>\u001b[0m in \u001b[0;36mlearning\u001b[1;34m(self, state, action)\u001b[0m\n\u001b[0;32m     37\u001b[0m         \u001b[1;32mif\u001b[0m \u001b[0mlen\u001b[0m\u001b[1;33m(\u001b[0m\u001b[0mself\u001b[0m\u001b[1;33m.\u001b[0m\u001b[0m_replay\u001b[0m\u001b[1;33m)\u001b[0m \u001b[1;33m>\u001b[0m \u001b[0mself\u001b[0m\u001b[1;33m.\u001b[0m\u001b[0m_bacthsize\u001b[0m\u001b[1;33m:\u001b[0m\u001b[1;33m\u001b[0m\u001b[1;33m\u001b[0m\u001b[0m\n\u001b[0;32m     38\u001b[0m             \u001b[1;31m#随机抽取记忆数据进行训练\u001b[0m\u001b[1;33m\u001b[0m\u001b[1;33m\u001b[0m\u001b[1;33m\u001b[0m\u001b[0m\n\u001b[1;32m---> 39\u001b[1;33m             \u001b[0mminibatch\u001b[0m \u001b[1;33m=\u001b[0m \u001b[0mrandom\u001b[0m\u001b[1;33m.\u001b[0m\u001b[0msample\u001b[0m\u001b[1;33m(\u001b[0m\u001b[0mself\u001b[0m\u001b[1;33m.\u001b[0m\u001b[0mmemory\u001b[0m\u001b[1;33m,\u001b[0m \u001b[0mbatch_size\u001b[0m\u001b[1;33m)\u001b[0m\u001b[1;33m\u001b[0m\u001b[1;33m\u001b[0m\u001b[0m\n\u001b[0m\u001b[0;32m     40\u001b[0m             \u001b[0mprint\u001b[0m\u001b[1;33m(\u001b[0m\u001b[0mminibatch\u001b[0m\u001b[1;33m.\u001b[0m\u001b[0mshape\u001b[0m\u001b[1;33m)\u001b[0m\u001b[1;33m\u001b[0m\u001b[1;33m\u001b[0m\u001b[0m\n\u001b[0;32m     41\u001b[0m             \u001b[1;31m#cost = self._nn.train(qvalue,state)\u001b[0m\u001b[1;33m\u001b[0m\u001b[1;33m\u001b[0m\u001b[1;33m\u001b[0m\u001b[0m\n",
      "\u001b[1;31mAttributeError\u001b[0m: 'dqn' object has no attribute 'memory'"
     ]
    }
   ],
   "source": [
    "DQN = dqn(env,nn)\n",
    "# pY = nn.predict(state)\n",
    "# idx = sess.run(tf.math.argmax(pY[0],1))\n",
    "for i in range(500):\n",
    "    state = env.reset()\n",
    "    state = np.array(state).reshape(1,1,4)\n",
    "    action = DQN.greedy_act(state)\n",
    "    count = 0\n",
    "    for j in range(200):\n",
    "        next_state,done = DQN.learning(state,action)\n",
    "        if done:\n",
    "            print(\"Failed:{} at {}/500\".format(count,i))\n",
    "            break\n",
    "        state = next_state\n",
    "        action = DQN.greedy_act(state)\n",
    "        count += 1\n",
    "    \n",
    "    "
   ]
  },
  {
   "cell_type": "code",
   "execution_count": 13,
   "metadata": {},
   "outputs": [
    {
     "name": "stdout",
     "output_type": "stream",
     "text": [
      "local_variables\n"
     ]
    }
   ],
   "source": [
    "print(tf.GraphKeys.LOCAL_VARIABLES)"
   ]
  },
  {
   "cell_type": "code",
   "execution_count": null,
   "metadata": {},
   "outputs": [],
   "source": []
  }
 ],
 "metadata": {
  "kernelspec": {
   "display_name": "Python 3",
   "language": "python",
   "name": "python3"
  },
  "language_info": {
   "codemirror_mode": {
    "name": "ipython",
    "version": 3
   },
   "file_extension": ".py",
   "mimetype": "text/x-python",
   "name": "python",
   "nbconvert_exporter": "python",
   "pygments_lexer": "ipython3",
   "version": "3.7.1"
  }
 },
 "nbformat": 4,
 "nbformat_minor": 2
}
